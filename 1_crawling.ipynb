{
 "cells": [
  {
   "cell_type": "code",
   "execution_count": 55,
   "id": "aefb07b1-f8bd-42bb-8944-aac193223254",
   "metadata": {},
   "outputs": [],
   "source": [
    "from selenium import webdriver\n",
    "from bs4 import BeautifulSoup\n",
    "from datetime import datetime, timedelta\n",
    "from selenium.webdriver.common.keys import Keys\n",
    "import time\n",
    "\n",
    "yesterday = (datetime.today() - timedelta(days=1)).strftime('%Y-%m-%d')\n",
    "hs_list = ['hmallplus','lotteonetv','gsmyshop','cjmallplus','nsmallplus','ssgshop','bshop','nsmallplus','shopnt']\n",
    "\n",
    "browser = webdriver.Chrome()\n",
    "\n",
    "# url = f'https://hsmoa.com/?date=31&time={yesterday}T06%3A34%3A55.407Z&time_size=2&direction=&tv_channel={hs}'\n",
    "url = 'https://hsmoa.com/?date=8&time=2025-04-07T15:00:00Z&time_size=2&direction=down&tv_channel=hmallplus&base_hour_datetime=2025-04-07T15:00:00Z'\n",
    "\n",
    "browser.get(url)\n",
    "\n",
    "soup = BeautifulSoup(browser.page_source,'html.parser')\n",
    "\n",
    "for i in range(5):\n",
    "    body = browser.find_elements('css selector','body')[0]\n",
    "    body.send_keys(Keys.END)\n",
    "    time.sleep(1)\n"
   ]
  },
  {
   "cell_type": "code",
   "execution_count": 46,
   "id": "21380556-55ae-4111-b092-b2db5a6c0500",
   "metadata": {},
   "outputs": [
    {
     "name": "stdout",
     "output_type": "stream",
     "text": [
      "04/08(화) 01:00 데이즈온 원데이 알파시클로덱스트린 알파CD 18박스 + 무료체험 1박스\n"
     ]
    }
   ],
   "source": [
    "broad_list = soup.select('div.relative.min-h-screen > div')[1:]\n",
    "\n",
    "# for broad_product in broad_list:\n",
    "#     broad = broad_product.select('div.border-b.border-gray-100')[0].select('div.flex.justify-between > div')[0]\n",
    "\n",
    "#     broad_date, broad_time = broad.select('p.tracking-tight.text-tiny.leading-none.text-gray-600.break-all')[0].text.split(\" \")\n",
    "#     broad_title = broad.select('p.tracking-tight.leading-none.text-gray-700.break-all.line-clamp-2')[0].text\n",
    "    \n",
    "#     print(broad_date, broad_time,broad_title)\n",
    "    \n",
    "broad = broad_list[0].select('div.border-b.border-gray-100')[0].select('div.flex.justify-between > div')[0]\n",
    "\n",
    "broad_date, broad_time = broad.select('p.tracking-tight.text-tiny.leading-none.text-gray-600.break-all')[0].text.split(\" \")\n",
    "broad_title = broad.select('p.tracking-tight.leading-none.text-gray-700.break-all.line-clamp-2')[0].text\n",
    "\n",
    "print(broad_date, broad_time,broad_title)"
   ]
  },
  {
   "cell_type": "code",
   "execution_count": 59,
   "id": "e9d87b26-021c-4080-bbca-753fb4bcbda8",
   "metadata": {},
   "outputs": [
    {
     "ename": "IndexError",
     "evalue": "list index out of range",
     "output_type": "error",
     "traceback": [
      "\u001b[31m---------------------------------------------------------------------------\u001b[39m",
      "\u001b[31mIndexError\u001b[39m                                Traceback (most recent call last)",
      "\u001b[36mCell\u001b[39m\u001b[36m \u001b[39m\u001b[32mIn[59]\u001b[39m\u001b[32m, line 2\u001b[39m\n\u001b[32m      1\u001b[39m broad_list = soup.select(\u001b[33m'\u001b[39m\u001b[33mdiv.relative.min-h-screen > div\u001b[39m\u001b[33m'\u001b[39m)[\u001b[32m1\u001b[39m:][\u001b[32m0\u001b[39m].select(\u001b[33m'\u001b[39m\u001b[33mdiv.border-b.border-gray-100\u001b[39m\u001b[33m'\u001b[39m)\n\u001b[32m----> \u001b[39m\u001b[32m2\u001b[39m \u001b[43mbroad_list\u001b[49m\u001b[43m[\u001b[49m\u001b[32;43m2\u001b[39;49m\u001b[43m]\u001b[49m\n",
      "\u001b[31mIndexError\u001b[39m: list index out of range"
     ]
    }
   ],
   "source": [
    "broad_list = soup.select('div.relative.min-h-screen > div')[1:][0].select('div.border-b.border-gray-100')\n",
    "broad_list[2]"
   ]
  },
  {
   "cell_type": "code",
   "execution_count": null,
   "id": "cd000db3-ac9d-4662-ae55-a62bc04ead57",
   "metadata": {},
   "outputs": [],
   "source": []
  }
 ],
 "metadata": {
  "kernelspec": {
   "display_name": "Python 3 (ipykernel)",
   "language": "python",
   "name": "python3"
  },
  "language_info": {
   "codemirror_mode": {
    "name": "ipython",
    "version": 3
   },
   "file_extension": ".py",
   "mimetype": "text/x-python",
   "name": "python",
   "nbconvert_exporter": "python",
   "pygments_lexer": "ipython3",
   "version": "3.13.2"
  }
 },
 "nbformat": 4,
 "nbformat_minor": 5
}
