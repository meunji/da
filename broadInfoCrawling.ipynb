{
 "cells": [
  {
   "cell_type": "code",
   "execution_count": 4,
   "id": "cb5dbfa9-825c-4177-bea2-5ccd934472b3",
   "metadata": {},
   "outputs": [],
   "source": [
    "# 라방바 금주 편성 크롤링"
   ]
  },
  {
   "cell_type": "code",
   "execution_count": 3,
   "id": "454a1465-e0a2-437a-8db2-cf47ade8350e",
   "metadata": {},
   "outputs": [
    {
     "name": "stdout",
     "output_type": "stream",
     "text": [
      "2025-04-13\n",
      "2025-04-14\n",
      "2025-04-15\n",
      "2025-04-16\n",
      "2025-04-17\n",
      "2025-04-18\n",
      "2025-04-19\n",
      "2025-04-20\n",
      "2025-04-21\n"
     ]
    }
   ],
   "source": [
    "from selenium import webdriver\n",
    "from bs4 import BeautifulSoup\n",
    "from datetime import datetime, timedelta\n",
    "from selenium.webdriver.common.keys import Keys\n",
    "import time\n",
    "from datetime import datetime\n",
    "import pandas as pd\n",
    "\n",
    "# 현재 날짜와 시간\n",
    "now = datetime.now()\n",
    "\n",
    "today = datetime.today().strftime('%Y-%m-%d')\n",
    "yesterday = (datetime.today() - timedelta(days=1)).strftime('%Y-%m-%d')\n",
    "\n",
    "# 연, 월, 일 따로 추출\n",
    "year = now.year\n",
    "month = now.strftime(\"%m\")\n",
    "\n",
    "url = 'https://live.ecomm-data.com/schedule/hs'\n",
    "browser = webdriver.Chrome()\n",
    "browser.get(url)\n",
    "\n",
    "# 1. 날짜별로 조회.\n",
    "search_date_list = browser.find_elements('css selector', \"ul > li > div.schedule_cell__0ZCso\")\n",
    "\n",
    "for i in range(len(search_date_list)):\n",
    "    search_date_list = browser.find_elements('css selector', \"ul > li > div.schedule_cell__0ZCso\")\n",
    "    search_button = search_date_list[i]\n",
    "    \n",
    "    search_button.click()\n",
    "    time.sleep(2)\n",
    "\n",
    "    for j in range(5):\n",
    "        body = browser.find_element('css selector', 'body')\n",
    "        body.send_keys(Keys.HOME)\n",
    "        time.sleep(1)\n",
    "    \n",
    "    # 크롤링\n",
    "    soup = BeautifulSoup(browser.page_source, 'html.parser')\n",
    "    day = search_button.text.split()[0]\n",
    "\n",
    "    search_date = f'{year}-{month}-{day}'\n",
    "    print(search_date)\n",
    "\n",
    "\n",
    "    results = []\n",
    "\n",
    "    # 날짜별 전체 편성 가져오기\n",
    "    day_div_list = soup.select('div.schedule_container__Bp3qt') \n",
    "    \n",
    "    # day_div_list[1].select('div.Table_container__cUG9N')[0].select('table.Table_table___jpMW')[0].select('tr')[2].select('td')[1].select('span')[0].text\n",
    "    \n",
    "    for day in day_div_list[1:]:\n",
    "        time_div_list = day.select('div.Table_container__cUG9N')[0].select('table.Table_table___jpMW')[0].select('tr') \n",
    "    \n",
    "        for broad in time_div_list:\n",
    "            td_list = broad.select('td')\n",
    "            \n",
    "            if len(td_list) >= 4 and td_list[1].select('span'):\n",
    "                try:\n",
    "                    date_ymd = td_list[1].select('span')[0].text\n",
    "                    time_hm = td_list[1].select('span')[1].text\n",
    "                    broad_info = td_list[2].text.strip()\n",
    "                    company_info = td_list[2].select('span.TableSchedule_adWrap__V_CMK')[0].text.strip() if td_list[2].select('span.TableSchedule_adWrap__V_CMK') else ''\n",
    "                    category = td_list[3].text.strip()\n",
    "    \n",
    "                    # print(date_ymd, time_hm, broad_info, company_info, category)\n",
    "                    \n",
    "                    data = [date_ymd, time_hm, broad_info, company_info, category]\n",
    "                    results.append(data)\n",
    "    \n",
    "                except IndexError as e:\n",
    "                    print(\"IndexError 발생한 row:\", broad)\n",
    "                    print(\"에러 메시지:\", e)\n",
    "\n",
    "    # csv로 데이터 저장        \n",
    "    df = pd.DataFrame(results)\n",
    "    df.columns = ['date', 'time', 'broad_info', 'company_info', 'category']\n",
    "    df.to_csv(f'./broad_info/broad_{search_date}.csv', index=False)\n"
   ]
  },
  {
   "cell_type": "code",
   "execution_count": null,
   "id": "2b2a1c2f-3f6f-4df0-895e-c866a54727a5",
   "metadata": {},
   "outputs": [],
   "source": []
  }
 ],
 "metadata": {
  "kernelspec": {
   "display_name": "Python (Local)",
   "language": "python",
   "name": "local-python"
  },
  "language_info": {
   "codemirror_mode": {
    "name": "ipython",
    "version": 3
   },
   "file_extension": ".py",
   "mimetype": "text/x-python",
   "name": "python",
   "nbconvert_exporter": "python",
   "pygments_lexer": "ipython3",
   "version": "3.13.2"
  }
 },
 "nbformat": 4,
 "nbformat_minor": 5
}
